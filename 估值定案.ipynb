{
  "nbformat": 4,
  "nbformat_minor": 0,
  "metadata": {
    "colab": {
      "provenance": [],
      "authorship_tag": "ABX9TyOJlVQTH2Xjf2Rchs7yKzWn",
      "include_colab_link": true
    },
    "kernelspec": {
      "name": "python3",
      "display_name": "Python 3"
    },
    "language_info": {
      "name": "python"
    }
  },
  "cells": [
    {
      "cell_type": "markdown",
      "metadata": {
        "id": "view-in-github",
        "colab_type": "text"
      },
      "source": [
        "<a href=\"https://colab.research.google.com/github/cc-huang-0716/The-evaluating-of-Stock-price-of-1216.TW/blob/main/%E4%BC%B0%E5%80%BC%E5%AE%9A%E6%A1%88.ipynb\" target=\"_parent\"><img src=\"https://colab.research.google.com/assets/colab-badge.svg\" alt=\"Open In Colab\"/></a>"
      ]
    },
    {
      "cell_type": "code",
      "execution_count": null,
      "metadata": {
        "colab": {
          "base_uri": "https://localhost:8080/"
        },
        "id": "pQEoFYZR_usX",
        "outputId": "7d4f640b-09a6-4fd8-a27e-6535097ff343"
      },
      "outputs": [
        {
          "output_type": "stream",
          "name": "stdout",
          "text": [
            "幾何成長率為: [0.875, 1.0832177531206657, 1.1075544174135725, 0.9595375722543353]\n",
            "cagr = 0.0018154386372761788\n",
            "終值現金流為 8.330163636663588\n",
            "未來現金流為 [7.68761335 7.17225716 6.69144902 6.24287291 5.8243681 ]\n",
            "終值為 115.72153082504222\n",
            "終值的現值為 81.0582404081399\n",
            "估算的每股價值: 114.68\n"
          ]
        }
      ],
      "source": [
        "import numpy as np\n",
        "\n",
        "# 過去五季之淨現金流,因自由現金流有考到折舊與資本支出云云,較適合評估公司真正盈餘\n",
        "# 輸入過去四年之每股自由現金流,以20-23年為例,因24年Q4財報尚未出來\n",
        "#20-23年Q4每股現金流為1.125 2.98 2.37 1.9,以平均數預估24年Q4每股現金流為2.1\n",
        "past_cf = [8.24, 7.21, 7.81, 8.65, 8.3]\n",
        "\n",
        "# 計算相鄰年間增長率\n",
        "growth_rate = [past_cf[i] / past_cf[i - 1] for i in range(1, len(past_cf))]\n",
        "print(\"幾何成長率為:\",growth_rate)\n",
        "\n",
        "# 計算相鄰年間成長率的幾何平均數\n",
        "cagr = np.prod(growth_rate) ** (1 / (len(past_cf) - 1)) - 1\n",
        "print(\"cagr =\",cagr)\n",
        "\n",
        "# 用23年乘上一次cagr為預測第一期,往後預測五年\n",
        "future_cash_flows = np.array([8.24 * (1 + cagr) ** i for i in range(1, 6)])\n",
        "\n",
        "# 股權成本=0.0168(台灣十年公債殖利率)+0.2672*(0.3452-0.0168)\n",
        "discount_rate = 0.0738  # 以23年年度來計算\n",
        "\n",
        "# 根據台經院於2024年11月公布之最新預測，2025年GDP成長率為3.15%，較2024年更新後4.03%減少0.88個百分點。\n",
        "growth_rate = cagr\n",
        "\n",
        "# 計算終值\n",
        "terminal_year_cash_flow = future_cash_flows[-1] * (1 + growth_rate)\n",
        "print(\"終值現金流為\",terminal_year_cash_flow)\n",
        "\n",
        "# 計算未來現金流\n",
        "present_value_cash_flows = future_cash_flows / (1 + discount_rate) ** np.arange(1, len(future_cash_flows) + 1)\n",
        "print(\"未來現金流為\",present_value_cash_flows)\n",
        "\n",
        "# 計算終值\n",
        "terminal_value = terminal_year_cash_flow / (discount_rate - growth_rate)\n",
        "present_value_terminal = terminal_value / (1 + discount_rate) ** len(future_cash_flows)\n",
        "print(\"終值為\",terminal_value)\n",
        "print(\"終值的現值為\",present_value_terminal)\n",
        "\n",
        "# 計算股票價值\n",
        "total_value = present_value_cash_flows.sum() + present_value_terminal\n",
        "\n",
        "print(f\"估算的每股價值: {total_value:.2f}\")"
      ]
    }
  ]
}