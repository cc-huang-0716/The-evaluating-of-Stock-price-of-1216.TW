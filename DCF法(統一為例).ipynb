{
  "nbformat": 4,
  "nbformat_minor": 0,
  "metadata": {
    "colab": {
      "provenance": [],
      "authorship_tag": "ABX9TyPeXhzWo5QIei9NszdKmdVo",
      "include_colab_link": true
    },
    "kernelspec": {
      "name": "python3",
      "display_name": "Python 3"
    },
    "language_info": {
      "name": "python"
    }
  },
  "cells": [
    {
      "cell_type": "markdown",
      "metadata": {
        "id": "view-in-github",
        "colab_type": "text"
      },
      "source": [
        "<a href=\"https://colab.research.google.com/github/cc-huang-0716/The-evaluating-of-Stock-price-of-1216.TW/blob/main/DCF%E6%B3%95(%E7%B5%B1%E4%B8%80%E7%82%BA%E4%BE%8B).ipynb\" target=\"_parent\"><img src=\"https://colab.research.google.com/assets/colab-badge.svg\" alt=\"Open In Colab\"/></a>"
      ]
    },
    {
      "cell_type": "code",
      "execution_count": null,
      "metadata": {
        "id": "N55AfO7gJW1v",
        "colab": {
          "base_uri": "https://localhost:8080/"
        },
        "outputId": "7d6b4767-7f91-423c-c3ae-d0e6da726e8e"
      },
      "outputs": [
        {
          "output_type": "stream",
          "name": "stdout",
          "text": [
            "cagr = 0.6303819327581338\n",
            "估算的公司總價值(/千台幣): 40971750.19\n",
            "估算的公司股票價格: 7.21\n"
          ]
        }
      ],
      "source": [
        "import numpy as np\n",
        "\n",
        "# 過去五季之淨現金流,因自由現金流有考到折舊與資本支出云云,較適合評估公司真正盈餘\n",
        "# 輸入過去四年之自由現金流(單位:/千台幣),以20-23年為例,因24年Q4財報尚未出來\n",
        "past_cf = [45965178 ,33250143 ,37610114, 11514371]\n",
        "\n",
        "# 計算相鄰年間增長率\n",
        "growth_rate = [past_cf[i] / past_cf[i - 1] for i in range(1, len(past_cf))]\n",
        "\n",
        "# 計算相鄰年間成長率的幾何平均數\n",
        "cagr = np.prod(growth_rate) ** (1 / (len(past_cf) - 1))\n",
        "print(\"cagr =\",cagr)\n",
        "\n",
        "# 用23年乘上一次cagr為預測第一期,往後預測五年\n",
        "future_cash_flows = np.array([11514271 * cagr ** i for i in range(1, 5)])\n",
        "\n",
        "# https://www.gurufocus.cn/stock/TPE:1216/term/wacc,統一的加權資本成本來源,d=0.0168(台灣十年公債殖利率)+0.2672*(0.3452-0.0168)\n",
        "discount_rate = 0.1045  # 以23年年度來計算\n",
        "\n",
        "# 根據台經院於2024年11月公布之最新預測，2025年GDP成長率為3.15%，較2024年更新後4.03%減少0.88個百分點。\n",
        "growth_rate = 0.0315\n",
        "\n",
        "# 計算終值\n",
        "terminal_year_cash_flow = future_cash_flows[-1] * (1 + cagr)\n",
        "\n",
        "# 計算未來現金流\n",
        "present_value_cash_flows = future_cash_flows / (1 + discount_rate) ** np.arange(1, len(future_cash_flows) + 1)\n",
        "\n",
        "# 計算終值\n",
        "terminal_value = terminal_year_cash_flow / (discount_rate - growth_rate)\n",
        "present_value_terminal = terminal_value / (1 + discount_rate) ** len(future_cash_flows)\n",
        "\n",
        "# 計算股票價值\n",
        "total_value = present_value_cash_flows.sum() + present_value_terminal\n",
        "\n",
        "print(f\"估算的公司總價值(/千台幣): {total_value:.2f}\")\n",
        "\n",
        "# 計算股票票面價值\n",
        "Stock_amount = 5682015\n",
        "predicted_stock_price = total_value / Stock_amount\n",
        "\n",
        "print(f\"估算的公司股票價格: {predicted_stock_price:.2f}\")"
      ]
    }
  ]
}